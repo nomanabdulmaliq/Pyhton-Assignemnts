{
 "cells": [
  {
   "cell_type": "code",
   "execution_count": 8,
   "id": "966f410a",
   "metadata": {},
   "outputs": [
    {
     "name": "stdout",
     "output_type": "stream",
     "text": [
      "Twinkle, twinkle, little star,\n",
      "\t\t How I wonder what you are!\n",
      "\t\t\t Up above the world so high,\n",
      "\t\t\t Like a diamond in the sky.\n",
      "Twinkle, twinkle, little star,\n",
      "How I wonder what you are\n"
     ]
    }
   ],
   "source": [
    "\"\"\"\n",
    "1) Write a Python program to print the following string in a specific format \n",
    "(see the output):\n",
    "                            Twinkle, twinkle, little star,\n",
    "                                        How I wonder what you are!\n",
    "                                                Up above the world so high,\n",
    "                                                Like a diamond in the sky.\n",
    "                            Twinkle, twinkle, little star,\n",
    "                            How I wonder what you are\n",
    "\n",
    "\"\"\"\n",
    "\n",
    "poem = \"Twinkle, twinkle, little star,\\n\\t\\t How I wonder what you are!\\n\\t\\t\\t Up above the world so high,\\n\\t\\t\\t Like a diamond in the sky.\\nTwinkle, twinkle, little star,\\nHow I wonder what you are\"\n",
    "print(poem)"
   ]
  },
  {
   "cell_type": "code",
   "execution_count": null,
   "id": "12372367",
   "metadata": {},
   "outputs": [],
   "source": []
  },
  {
   "cell_type": "code",
   "execution_count": null,
   "id": "5eace5d9",
   "metadata": {},
   "outputs": [],
   "source": []
  }
 ],
 "metadata": {
  "kernelspec": {
   "display_name": "Python 3",
   "language": "python",
   "name": "python3"
  },
  "language_info": {
   "codemirror_mode": {
    "name": "ipython",
    "version": 3
   },
   "file_extension": ".py",
   "mimetype": "text/x-python",
   "name": "python",
   "nbconvert_exporter": "python",
   "pygments_lexer": "ipython3",
   "version": "3.8.8"
  }
 },
 "nbformat": 4,
 "nbformat_minor": 5
}
