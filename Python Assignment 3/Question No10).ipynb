{
 "cells": [
  {
   "cell_type": "code",
   "execution_count": 2,
   "id": "0d2c5aac",
   "metadata": {},
   "outputs": [
    {
     "name": "stdout",
     "output_type": "stream",
     "text": [
      "Sum of elements in given list is : 45\n"
     ]
    }
   ],
   "source": [
    "\"\"\"\n",
    "Write a Python program to sum all the numeric items in a list?\n",
    "\"\"\"\n",
    "\n",
    "a = [1,2,3,4,5,6,7,8,9]\n",
    "print(\"Sum of elements in given list is :\", sum(a))"
   ]
  },
  {
   "cell_type": "code",
   "execution_count": null,
   "id": "3eed6a9b",
   "metadata": {},
   "outputs": [],
   "source": []
  }
 ],
 "metadata": {
  "kernelspec": {
   "display_name": "Python 3",
   "language": "python",
   "name": "python3"
  },
  "language_info": {
   "codemirror_mode": {
    "name": "ipython",
    "version": 3
   },
   "file_extension": ".py",
   "mimetype": "text/x-python",
   "name": "python",
   "nbconvert_exporter": "python",
   "pygments_lexer": "ipython3",
   "version": "3.8.8"
  }
 },
 "nbformat": 4,
 "nbformat_minor": 5
}
