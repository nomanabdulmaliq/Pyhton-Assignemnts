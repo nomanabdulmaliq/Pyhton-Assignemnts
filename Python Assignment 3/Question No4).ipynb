{
 "cells": [
  {
   "cell_type": "code",
   "execution_count": 5,
   "id": "2fab5d78",
   "metadata": {},
   "outputs": [
    {
     "name": "stdout",
     "output_type": "stream",
     "text": [
      "Enter the radius of Circle: 34.67\n",
      "3774.3079460000004\n"
     ]
    }
   ],
   "source": [
    "\"\"\"\n",
    "Write a Python program which accepts the radius of a circle from the user and compute\n",
    "the area.\n",
    "\"\"\"\n",
    "\n",
    "radiusOfCircle = float(input(\"Enter the radius of Circle: \"))\n",
    "areaOfCircle = 3.14*(radiusOfCircle)**2\n",
    "print(areaOfCircle)"
   ]
  },
  {
   "cell_type": "code",
   "execution_count": null,
   "id": "1055e162",
   "metadata": {},
   "outputs": [],
   "source": []
  }
 ],
 "metadata": {
  "kernelspec": {
   "display_name": "Python 3",
   "language": "python",
   "name": "python3"
  },
  "language_info": {
   "codemirror_mode": {
    "name": "ipython",
    "version": 3
   },
   "file_extension": ".py",
   "mimetype": "text/x-python",
   "name": "python",
   "nbconvert_exporter": "python",
   "pygments_lexer": "ipython3",
   "version": "3.8.8"
  }
 },
 "nbformat": 4,
 "nbformat_minor": 5
}
