{
 "cells": [
  {
   "cell_type": "code",
   "execution_count": 9,
   "id": "892a6422",
   "metadata": {},
   "outputs": [
    {
     "name": "stdout",
     "output_type": "stream",
     "text": [
      "Enter a first Num: 106\n",
      "Enter a Second Num: 4567\n",
      "The Addition of 106 and 4567 is: 4673\n"
     ]
    }
   ],
   "source": [
    "\"\"\"\n",
    "Write a python program which takes two inputs from user and print them addition\n",
    "\"\"\"\n",
    "\n",
    "firstNum = int(input(\"Enter a first Num: \"))\n",
    "secondNum = int(input(\"Enter a Second Num: \"))\n",
    "addition_of_two_num = firstNum + secondNum;\n",
    "print(\"The Addition of {} and {} is:\".format(firstNum,secondNum),addition_of_two_num)"
   ]
  },
  {
   "cell_type": "code",
   "execution_count": null,
   "id": "7b60c896",
   "metadata": {},
   "outputs": [],
   "source": []
  }
 ],
 "metadata": {
  "kernelspec": {
   "display_name": "Python 3",
   "language": "python",
   "name": "python3"
  },
  "language_info": {
   "codemirror_mode": {
    "name": "ipython",
    "version": 3
   },
   "file_extension": ".py",
   "mimetype": "text/x-python",
   "name": "python",
   "nbconvert_exporter": "python",
   "pygments_lexer": "ipython3",
   "version": "3.8.8"
  }
 },
 "nbformat": 4,
 "nbformat_minor": 5
}
