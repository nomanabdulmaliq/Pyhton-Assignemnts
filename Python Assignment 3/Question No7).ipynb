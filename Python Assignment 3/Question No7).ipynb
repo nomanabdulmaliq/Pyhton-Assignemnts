{
 "cells": [
  {
   "cell_type": "code",
   "execution_count": 25,
   "id": "c366a628",
   "metadata": {},
   "outputs": [
    {
     "name": "stdout",
     "output_type": "stream",
     "text": [
      "Enter your English marks: 89\n",
      "Enter your Math marks: 90\n",
      "Enter your Physics marks: 89\n",
      "Enter your Computer marks: 78\n",
      "Enter your Islmaita marks: 90\n",
      "English 89, Math 90, Physics 89, Computer 78, Islamiat 90, Obtained 436, Total 500, Grade B\n"
     ]
    }
   ],
   "source": [
    "\"\"\"\n",
    "Write a program which takes 5 inputs from user for different subject’s marks, total it\n",
    "and generate mark sheet using grades?\n",
    "\"\"\"\n",
    "\n",
    "eng = int(input(\"Enter your English marks: \"))\n",
    "math = int(input(\"Enter your Math marks: \"))\n",
    "phy = int(input(\"Enter your Physics marks: \"))\n",
    "comp = int(input(\"Enter your Computer marks: \"))\n",
    "isl = int(input(\"Enter your Islmaita marks: \"))\n",
    "total_marks = 500\n",
    "obtain_marks = eng + math + phy + comp + isl\n",
    "per  = (obtain_marks/total_marks)*100\n",
    "if(per>=90):\n",
    "    grade = \"A\"\n",
    "elif(per>=80 or percentage>90):\n",
    "    grade = \"B\"\n",
    "elif(per>=70 or percentage>80):\n",
    "    grade = \"C\"\n",
    "elif(per>=60 or percentage>97):\n",
    "    grade = \"D\"\n",
    "elif(per>=50 or percentage>60):\n",
    "    grade = \"E\"\n",
    "else:\n",
    "    grade = \"Sorry You are Fail please Try again with great efforts\"\n",
    "    \n",
    "print(\"English {}, Math {}, Physics {}, Computer {}, Islamiat {}, Obtained {}, Total {}, Grade {}\".format(eng,math,phy,comp,isl,obtain_marks,total_marks,grade))\n"
   ]
  },
  {
   "cell_type": "code",
   "execution_count": null,
   "id": "0a24ab5e",
   "metadata": {},
   "outputs": [],
   "source": []
  },
  {
   "cell_type": "code",
   "execution_count": null,
   "id": "14f76241",
   "metadata": {},
   "outputs": [],
   "source": []
  }
 ],
 "metadata": {
  "kernelspec": {
   "display_name": "Python 3",
   "language": "python",
   "name": "python3"
  },
  "language_info": {
   "codemirror_mode": {
    "name": "ipython",
    "version": 3
   },
   "file_extension": ".py",
   "mimetype": "text/x-python",
   "name": "python",
   "nbconvert_exporter": "python",
   "pygments_lexer": "ipython3",
   "version": "3.8.8"
  }
 },
 "nbformat": 4,
 "nbformat_minor": 5
}
