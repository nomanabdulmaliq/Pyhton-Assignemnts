{
 "cells": [
  {
   "cell_type": "code",
   "execution_count": 1,
   "id": "2d27b995",
   "metadata": {},
   "outputs": [
    {
     "name": "stdout",
     "output_type": "stream",
     "text": [
      "Enter your first name: Noman\n",
      "Enter your last name: Abdul Malik\n",
      "Name is Reverse order:  kilaM ludbA namoN\n"
     ]
    }
   ],
   "source": [
    "\"\"\"\n",
    "Write a Python program which accepts the user's first and last name and print them in\n",
    "reverse order with a space between them.\n",
    "\"\"\"\n",
    "\n",
    "fName = input(\"Enter your first name: \");\n",
    "lName = input(\"Enter your last name: \");\n",
    "\n",
    "print(\"Name is Reverse order: \", lName[::-1] +\" \"+ fName[::-1])"
   ]
  }
 ],
 "metadata": {
  "kernelspec": {
   "display_name": "Python 3",
   "language": "python",
   "name": "python3"
  },
  "language_info": {
   "codemirror_mode": {
    "name": "ipython",
    "version": 3
   },
   "file_extension": ".py",
   "mimetype": "text/x-python",
   "name": "python",
   "nbconvert_exporter": "python",
   "pygments_lexer": "ipython3",
   "version": "3.8.8"
  }
 },
 "nbformat": 4,
 "nbformat_minor": 5
}
